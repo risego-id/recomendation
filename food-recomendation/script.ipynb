{
 "cells": [
  {
   "cell_type": "code",
   "execution_count": 53,
   "metadata": {},
   "outputs": [
    {
     "name": "stderr",
     "output_type": "stream",
     "text": [
      "WARNING:absl:At this time, the v2.11+ optimizer `tf.keras.optimizers.Adam` runs slowly on M1/M2 Macs, please use the legacy Keras optimizer instead, located at `tf.keras.optimizers.legacy.Adam`.\n",
      "WARNING:absl:There is a known slowdown when using v2.11+ Keras optimizers on M1/M2 Macs. Falling back to the legacy Keras optimizer, i.e., `tf.keras.optimizers.legacy.Adam`.\n"
     ]
    },
    {
     "name": "stdout",
     "output_type": "stream",
     "text": [
      "Epoch 1/10\n",
      "1975/1975 [==============================] - 1s 561us/step - loss: 0.0360 - accuracy: 0.0018\n",
      "Epoch 2/10\n",
      "1975/1975 [==============================] - 1s 537us/step - loss: 0.0344 - accuracy: 0.0018\n",
      "Epoch 3/10\n",
      "1975/1975 [==============================] - 1s 586us/step - loss: 0.0344 - accuracy: 0.0018\n",
      "Epoch 4/10\n",
      "1975/1975 [==============================] - 1s 539us/step - loss: 0.0344 - accuracy: 0.0018\n",
      "Epoch 5/10\n",
      "1975/1975 [==============================] - 1s 585us/step - loss: 0.0344 - accuracy: 0.0018\n",
      "Epoch 6/10\n",
      "1975/1975 [==============================] - 1s 523us/step - loss: 0.0344 - accuracy: 0.0018\n",
      "Epoch 7/10\n",
      "1975/1975 [==============================] - 1s 564us/step - loss: 0.0344 - accuracy: 0.0018\n",
      "Epoch 8/10\n",
      "1975/1975 [==============================] - 1s 603us/step - loss: 0.0344 - accuracy: 0.0018\n",
      "Epoch 9/10\n",
      "1975/1975 [==============================] - 1s 529us/step - loss: 0.0344 - accuracy: 0.0018\n",
      "Epoch 10/10\n",
      "1975/1975 [==============================] - 1s 565us/step - loss: 0.0344 - accuracy: 0.0018\n"
     ]
    },
    {
     "data": {
      "text/plain": [
       "<keras.src.callbacks.History at 0x2f89025e0>"
      ]
     },
     "execution_count": 53,
     "metadata": {},
     "output_type": "execute_result"
    }
   ],
   "source": [
    "import pandas as pd\n",
    "import numpy as np\n",
    "import tensorflow as tf\n",
    "from sklearn.model_selection import train_test_split\n",
    "\n",
    "# Load the food data\n",
    "food_data = pd.read_csv('./data/Food and Calories.csv')\n",
    "\n",
    "# Load the user data\n",
    "user_data = pd.read_csv('./data/User data.csv')\n",
    "\n",
    "user_data['User_ID'] = range(1, len(user_data) + 1)\n",
    "food_data['Food_ID'] = range(1, len(food_data) + 1)\n",
    "\n",
    "# Create a rating column (calories needed) in the user data\n",
    "def calculate_calories(row):\n",
    "    if row['Gender'] == 'M':\n",
    "        bmr = 10 * row['Weight'] + 6.25 * row['Height'] - 5 * row['Age'] + 5\n",
    "    else:\n",
    "        bmr = 10 * row['Weight'] + 6.25 * row['Height'] - 5 * row['Age'] - 161\n",
    "    activity_level_mapping = {\n",
    "        'sedentary': 1.2,\n",
    "        'lightly active': 1.375,\n",
    "        'moderately active': 1.55,\n",
    "        'very active': 1.725,\n",
    "        'extra active': 1.9\n",
    "    }\n",
    "    calories_needed = bmr * activity_level_mapping[row['Activity Level']]\n",
    "    return calories_needed\n",
    "\n",
    "\n",
    "user_data['Calories'] = user_data.apply(calculate_calories, axis=1)\n",
    "\n",
    "# Merge user data and food data\n",
    "merged_data = pd.merge(user_data, food_data, how='cross')\n",
    "\n",
    "# Split the data into train and test sets\n",
    "train_data, test_data = train_test_split(merged_data, test_size=0.2, random_state=42)\n",
    "\n",
    "# Merge the 'Calories' column from user_data into train_data\n",
    "train_data = pd.merge(train_data, user_data[['User_ID', 'Calories']], on='User_ID', how='left')\n",
    "\n",
    "# Create user and item input tensors\n",
    "user_ids = train_data['User_ID'].values\n",
    "food_ids = train_data['Food_ID'].values\n",
    "\n",
    "# Normalize the ratings (calories)\n",
    "min_rating = train_data['Calories'].min()\n",
    "max_rating = train_data['Calories'].max()\n",
    "ratings = (train_data['Calories'].values - min_rating) / (max_rating - min_rating)\n",
    "\n",
    "# Define the neural network model\n",
    "embedding_dim = 8  # Number of latent dimensions for user and item embeddings\n",
    "num_users = len(user_data)\n",
    "num_food = len(food_data)\n",
    "\n",
    "# Determine the maximum user and food IDs\n",
    "max_user_id = merged_data['User_ID'].max()\n",
    "max_food_id = merged_data['Food_ID'].max()\n",
    "\n",
    "# Create user and item input tensors\n",
    "user_input = tf.keras.layers.Input(shape=(1,))\n",
    "food_input = tf.keras.layers.Input(shape=(1,))\n",
    "\n",
    "user_embedding = tf.keras.layers.Embedding(max_user_id + 1, embedding_dim, input_length=1)(user_input)\n",
    "food_embedding = tf.keras.layers.Embedding(max_food_id + 1, embedding_dim, input_length=1)(food_input)\n",
    "\n",
    "\n",
    "# Adjust the learning rate\n",
    "optimizer = tf.keras.optimizers.Adam(learning_rate=0.001)\n",
    "\n",
    "concatenated = tf.keras.layers.Concatenate()([user_embedding, food_embedding])\n",
    "dense1 = tf.keras.layers.Dense(32, activation='relu')(concatenated)\n",
    "output = tf.keras.layers.Dense(1, activation='linear')(dense1)\n",
    "\n",
    "model = tf.keras.Model(inputs=[user_input, food_input], outputs=output)\n",
    "model.compile(optimizer=optimizer, loss='mean_squared_error', metrics=['accuracy'])\n",
    "\n",
    "\n",
    "# Increase the number of epochs and batch size\n",
    "model.fit([user_ids, food_ids], ratings, epochs=10, batch_size=128)\n"
   ]
  },
  {
   "cell_type": "code",
   "execution_count": 57,
   "metadata": {},
   "outputs": [
    {
     "name": "stdout",
     "output_type": "stream",
     "text": [
      "18/18 [==============================] - 0s 2ms/step\n",
      "Food Recommendations for User ID: 100\n",
      "1. Acerola\n",
      "2. Plum\n",
      "3. Succotash\n",
      "4. Tomato Seed Oil\n",
      "5. Vegetable Pizza\n",
      "6. Clementine\n",
      "7. Chinese Cabbage\n",
      "8. Burger King Premium Alaskan Fish Sandwich\n",
      "9. Gourd\n",
      "10. Ice Cream Sundae\n"
     ]
    }
   ],
   "source": [
    "user_id = 100  # Change this to the desired user ID\n",
    "num_food_items = food_data.shape[0]\n",
    "\n",
    "# Get the total calories needed for the user\n",
    "total_calories_needed = user_data.loc[user_data['User_ID'] == user_id, 'Calories'].values[0]\n",
    "\n",
    "# Predict ratings (calories) for all food items for the given user\n",
    "predicted_ratings = model.predict([np.array([user_id] * num_food_items), np.arange(1, num_food_items + 1)])\n",
    "\n",
    "# Sort the predicted ratings in descending order\n",
    "sorted_indices = np.argsort(predicted_ratings, axis=0)[::-1]\n",
    "\n",
    "# Get the top 10 food recommendations based on calories needed\n",
    "top_food_indices = sorted_indices[:10, 0] + 1  # Add 1 to adjust for 0-based indexing\n",
    "\n",
    "# Retrieve the food names for the recommended food indices\n",
    "recommended_food = food_data.loc[top_food_indices.ravel(), 'Food'].tolist()\n",
    "\n",
    "# Display the recommendations\n",
    "print(\"Food Recommendations for User ID:\", user_id)\n",
    "for i, food in enumerate(recommended_food):\n",
    "    print(f\"{i+1}. {food}\")"
   ]
  },
  {
   "cell_type": "code",
   "execution_count": 58,
   "metadata": {},
   "outputs": [
    {
     "name": "stdout",
     "output_type": "stream",
     "text": [
      "18/18 [==============================] - 0s 466us/step\n",
      "Food Recommendations for User ID: 536\n",
      "1. Chocolate Ice Cream\n",
      "2. Poutine\n",
      "3. Tomato Seed Oil\n",
      "4. Magnum White\n",
      "5. Chicken Teriyaki Sandwich\n",
      "6. Vegetable Pizza\n",
      "7. Orzo\n",
      "8. Veggie Delight\n",
      "9. Kohlrabi\n",
      "10. Sausage Pizza\n"
     ]
    }
   ],
   "source": [
    "user_id = 536  # Change this to the desired user ID\n",
    "num_food_items = food_data.shape[0]\n",
    "\n",
    "# Get the total calories needed for the user\n",
    "total_calories_needed = user_data.loc[user_data['User_ID'] == user_id, 'Calories'].values[0]\n",
    "\n",
    "# Predict ratings (calories) for all food items for the given user\n",
    "predicted_ratings = model.predict([np.array([user_id] * num_food_items), np.arange(1, num_food_items + 1)])\n",
    "\n",
    "# Sort the predicted ratings in descending order\n",
    "sorted_indices = np.argsort(predicted_ratings, axis=0)[::-1]\n",
    "\n",
    "# Get the top 10 food recommendations based on calories needed\n",
    "top_food_indices = sorted_indices[:10, 0] + 1  # Add 1 to adjust for 0-based indexing\n",
    "\n",
    "# Retrieve the food names for the recommended food indices\n",
    "recommended_food = food_data.loc[top_food_indices.ravel(), 'Food'].tolist()\n",
    "\n",
    "# Display the recommendations\n",
    "print(\"Food Recommendations for User ID:\", user_id)\n",
    "for i, food in enumerate(recommended_food):\n",
    "    print(f\"{i+1}. {food}\")"
   ]
  },
  {
   "cell_type": "code",
   "execution_count": null,
   "metadata": {},
   "outputs": [],
   "source": []
  }
 ],
 "metadata": {
  "kernelspec": {
   "display_name": "Python 3",
   "language": "python",
   "name": "python3"
  },
  "language_info": {
   "codemirror_mode": {
    "name": "ipython",
    "version": 3
   },
   "file_extension": ".py",
   "mimetype": "text/x-python",
   "name": "python",
   "nbconvert_exporter": "python",
   "pygments_lexer": "ipython3",
   "version": "3.9.12"
  },
  "orig_nbformat": 4
 },
 "nbformat": 4,
 "nbformat_minor": 2
}
